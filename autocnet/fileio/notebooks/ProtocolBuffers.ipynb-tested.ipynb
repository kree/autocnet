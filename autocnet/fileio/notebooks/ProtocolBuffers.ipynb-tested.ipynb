{
 "cells": [
  {
   "cell_type": "code",
   "execution_count": 1,
   "metadata": {
    "collapsed": true
   },
   "outputs": [],
   "source": [
    "import autocnet.fileio.ControlNetFileV0002_pb2 as spec"
   ]
  },
  {
   "cell_type": "code",
   "execution_count": 2,
   "metadata": {
    "collapsed": false
   },
   "outputs": [
    {
     "name": "stdout",
     "output_type": "stream",
     "text": [
      "['ControlNetFileHeaderV0002', 'ControlPointFileEntryV0002', 'DESCRIPTOR', '_CONTROLNETFILEHEADERV0002', '_CONTROLPOINTFILEENTRYV0002', '_CONTROLPOINTFILEENTRYV0002_APRIORISOURCE', '_CONTROLPOINTFILEENTRYV0002_MEASURE', '_CONTROLPOINTFILEENTRYV0002_MEASURE_MEASURELOGDATA', '_CONTROLPOINTFILEENTRYV0002_MEASURE_MEASURETYPE', '_CONTROLPOINTFILEENTRYV0002_POINTLOGDATA', '_CONTROLPOINTFILEENTRYV0002_POINTTYPE', '__builtins__', '__doc__', '__file__', '__name__', '__package__', 'descriptor', 'descriptor_pb2', 'message', 'reflection']\n"
     ]
    }
   ],
   "source": [
    "print dir(spec)"
   ]
  },
  {
   "cell_type": "code",
   "execution_count": 21,
   "metadata": {
    "collapsed": false
   },
   "outputs": [],
   "source": [
    "header = spec.ControlNetFileHeaderV0002()\n",
    "header.created = \"12/4/15\"\n",
    "header.description = \"Just a date\"\n",
    "header.lastModified = \"12/4/15\"\n",
    "header.networkId = \"This is the ID\"\n",
    "#header.pointMessageSizes = 1.0\n",
    "header.targetName = \"Moon\"\n",
    "header.userName = \"my name\"\n",
    "header_buffer = header.SerializeToString()"
   ]
  },
  {
   "cell_type": "code",
   "execution_count": 22,
   "metadata": {
    "collapsed": false
   },
   "outputs": [
    {
     "data": {
      "text/plain": [
       "'\\n\\x0eThis is the ID\\x12\\x04Moon\\x1a\\x0712/4/15\"\\x0712/4/15*\\x0bJust a date2\\x07my name'"
      ]
     },
     "execution_count": 22,
     "metadata": {},
     "output_type": "execute_result"
    }
   ],
   "source": [
    "header_buffer"
   ]
  },
  {
   "cell_type": "code",
   "execution_count": null,
   "metadata": {
    "collapsed": true
   },
   "outputs": [],
   "source": []
  }
 ],
 "metadata": {
  "kernelspec": {
   "display_name": "Python 2",
   "language": "python",
   "name": "python2"
  },
  "language_info": {
   "codemirror_mode": {
    "name": "ipython",
    "version": 2
   },
   "file_extension": ".py",
   "mimetype": "text/x-python",
   "name": "python",
   "nbconvert_exporter": "python",
   "pygments_lexer": "ipython2",
   "version": "2.7.10"
  }
 },
 "nbformat": 4,
 "nbformat_minor": 0
}
