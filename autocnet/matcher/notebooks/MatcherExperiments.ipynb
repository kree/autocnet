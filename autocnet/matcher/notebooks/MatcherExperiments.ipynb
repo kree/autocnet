{
 "cells": [
  {
   "cell_type": "code",
   "execution_count": 26,
   "metadata": {
    "collapsed": false
   },
   "outputs": [
    {
     "name": "stdout",
     "output_type": "stream",
     "text": [
      "Populating the interactive namespace from numpy and matplotlib\n"
     ]
    }
   ],
   "source": [
    "import os\n",
    "import sys\n",
    "sys.path.insert(0, '/Users/jlaura/github/autocnet')\n",
    "from autocnet.graph import network\n",
    "from autocnet.examples import get_path, available\n",
    "from autocnet.fileio import io_gdal\n",
    "\n",
    "%pylab inline"
   ]
  },
  {
   "cell_type": "markdown",
   "metadata": {},
   "source": [
    "## Build the graph (This happens in the graph module)"
   ]
  },
  {
   "cell_type": "code",
   "execution_count": 2,
   "metadata": {
    "collapsed": false
   },
   "outputs": [],
   "source": [
    "G = network.CandidateGraph()\n",
    "#Get a list of the available sample data\n",
    "images = []\n",
    "for fi in available('Apollo15'):\n",
    "    d = get_path(fi)\n",
    "    if '.json' in d:\n",
    "        continue\n",
    "    geods = io_gdal.GeoDataSet(get_path(fi))\n",
    "    G.add_image(os.path.basename(geods.filename), geodataset=geods)\n",
    "   \n",
    "\n",
    "adjacency = {'AS15-M-0295_SML.png': [],\n",
    " 'AS15-M-0296_SML.png':['AS15-M-0297_SML.png', 'AS15-M-0298_SML.png', 'AS15-M-0299_SML.png'],\n",
    " 'AS15-M-0297_SML.png':['AS15-M-0296_SML.png', 'AS15-M-0298_SML.png', 'AS15-M-0299_SML.png', 'AS15-M-0300_SML.png'],\n",
    " 'AS15-M-0298_SML.png':['AS15-M-0296_SML.png', 'AS15-M-0297_SML.png', 'AS15-M-0299_SML.png', 'AS15-M-0300_SML.png'],\n",
    " 'AS15-M-0299_SML.png':['AS15-M-0296_SML.png', 'AS15-M-0297_SML.png', 'AS15-M-0298_SML.png', 'AS15-M-0300_SML.png'],\n",
    " 'AS15-M-0300_SML.png':['AS15-M-0297_SML.png', 'AS15-M-0298_SML.png', 'AS15-M-0299_SML.png']}\n",
    "\n",
    "#Add single edges to the graph\n",
    "basename = 'AS15-M-0{}_SML.png'\n",
    "for k,v in adjacency.items():\n",
    "    for i in v:\n",
    "        G.add_edge(k,i)"
   ]
  },
  {
   "cell_type": "code",
   "execution_count": 3,
   "metadata": {
    "collapsed": false
   },
   "outputs": [
    {
     "name": "stderr",
     "output_type": "stream",
     "text": [
      "/Users/jlaura/anaconda3/envs/autocnet/lib/python3.5/site-packages/matplotlib/collections.py:650: FutureWarning: elementwise comparison failed; returning scalar instead, but in the future will perform elementwise comparison\n",
      "  if self._edgecolors_original != str('face'):\n"
     ]
    }
   ],
   "source": [
    "import networkx as nx #Only used to draw\n",
    "\n",
    "nx.draw(G)\n",
    "show()"
   ]
  },
  {
   "cell_type": "markdown",
   "metadata": {},
   "source": [
    "## On to the matching"
   ]
  },
  {
   "cell_type": "code",
   "execution_count": 4,
   "metadata": {
    "collapsed": false
   },
   "outputs": [
    {
     "name": "stderr",
     "output_type": "stream",
     "text": [
      "/Users/jlaura/anaconda3/envs/autocnet/lib/python3.5/site-packages/matplotlib/collections.py:590: FutureWarning: elementwise comparison failed; returning scalar instead, but in the future will perform elementwise comparison\n",
      "  if self._edgecolors == str('face'):\n"
     ]
    }
   ],
   "source": [
    "import cv2\n",
    "from scipy.misc import bytescale"
   ]
  },
  {
   "cell_type": "code",
   "execution_count": 5,
   "metadata": {
    "collapsed": false
   },
   "outputs": [],
   "source": [
    "#Create the sift detector\n",
    "sift = cv2.xfeatures2d.SIFT_create(10)"
   ]
  },
  {
   "cell_type": "code",
   "execution_count": 6,
   "metadata": {
    "collapsed": true
   },
   "outputs": [],
   "source": [
    "#We do not know which pairs might be good, so we need to process all of them.\n",
    "#This computes for node with incidence 0...\n",
    "for name, attributes in G.nodes_iter(data=True): #Returns a tuple\n",
    "    geods = attributes['geodataset']\n",
    "    #Get the first band of the array and add that data to the attributes\n",
    "    image_array = bytescale(geods.readarray()) #OpenCV requires that the data be byte scaled...\n",
    "    attributes['original_image'] = image_array\n",
    "    keypoints, descriptors = sift.detectAndCompute(image_array, None)\n",
    "    attributes['keypoints'] = keypoints\n",
    "    attributes['descriptors'] = descriptors"
   ]
  },
  {
   "cell_type": "markdown",
   "metadata": {},
   "source": [
    "## FLANN Matching\n",
    "\n",
    "The idea here is to 'punch through' as many images as possible in a single go.  Basically, take a given image to be the query image, populate a KD-tree with all descriptors in neighbor images and perform the match. \n",
    "\n",
    "This will yield $n * k$ matches, where $n$ is the number of descriptors and $k$ is the user defined KNN parameter.\n",
    "\n",
    "To use Lowe's ratio test, two matches per image are required, where a 'good match' is $i.distance < j.distance * 0.8$.  This requires $k >= node.incidence * 2$\n",
    "\n",
    "To punch through, book keeping is going to be key.  The example below for three images illustrates how multiple images can be tied.  This is going to be a book keeping / efficiency issue.  By way of example:\n",
    "\n",
    "296:\n",
    "  * AS15-M-0297_SML.png 3 3 84.7584838867\n",
    "  * AS15-M-0298_SML.png 3 6 133.540252686\n",
    "\n",
    "297:\n",
    "  * AS15-M-0296_SML.png 3 3 84.7584838867\n",
    "  * AS15-M-0298_SML.png 3 6 90.1165924072\n",
    "\n",
    "298:\n",
    "  * AS15-M-0297_SML.png 6 3 90.1165924072\n",
    "  * AS15-M-0296_SML.png 6 3 133.540252686\n",
    "\n",
    "This is the same point, 'punched' through three images.\n",
    "\n",
    "* How can this best be represented?\n",
    "  * I need to know:\n",
    "      * From Image\n",
    "      * To Image\n",
    "      * From Image Point ID\n",
    "      * To Image Point ID\n",
    "      * Distance\n",
    "      \n",
    "This is really the control network - in a raw, unfiltered form.  How best can a control network be represented...\n",
    "* Assuming a brute force approach to generate this, what is the logic needed to extract this into a control network?"
   ]
  },
  {
   "cell_type": "code",
   "execution_count": 7,
   "metadata": {
    "collapsed": false
   },
   "outputs": [
    {
     "name": "stdout",
     "output_type": "stream",
     "text": [
      "AS15-M-0297_SML.png 0 6 85.21736907958984\n",
      "AS15-M-0298_SML.png 0 2 253.1975555419922\n",
      "AS15-M-0298_SML.png 1 3 188.6478271484375\n",
      "AS15-M-0297_SML.png 1 2 192.2784423828125\n",
      "AS15-M-0299_SML.png 2 2 280.5405578613281\n",
      "AS15-M-0297_SML.png 2 9 281.6096496582031\n",
      "AS15-M-0298_SML.png 2 5 283.8714599609375\n",
      "AS15-M-0297_SML.png 3 3 84.75848388671875\n",
      "AS15-M-0298_SML.png 3 6 133.54025268554688\n",
      "AS15-M-0297_SML.png 4 7 122.64175415039062\n",
      "AS15-M-0298_SML.png 4 4 144.97586059570312\n",
      "AS15-M-0298_SML.png 5 1 126.23786926269531\n",
      "AS15-M-0297_SML.png 5 1 147.4788055419922\n",
      "AS15-M-0297_SML.png 6 0 50.22947311401367\n",
      "AS15-M-0298_SML.png 6 7 220.3474578857422\n",
      "AS15-M-0298_SML.png 7 5 240.1853485107422\n",
      "AS15-M-0297_SML.png 7 2 241.24053955078125\n",
      "AS15-M-0299_SML.png 7 4 242.22509765625\n",
      "AS15-M-0298_SML.png 8 5 182.67730712890625\n",
      "AS15-M-0297_SML.png 8 2 201.5812530517578\n",
      "AS15-M-0298_SML.png 9 1 150.5523223876953\n",
      "AS15-M-0299_SML.png 9 1 162.28062438964844\n",
      "AS15-M-0296_SML.png 0 6 50.22947311401367\n",
      "AS15-M-0298_SML.png 0 3 219.86814880371094\n",
      "AS15-M-0298_SML.png 1 8 102.72293090820312\n",
      "AS15-M-0296_SML.png 1 5 147.4788055419922\n",
      "AS15-M-0299_SML.png 1 2 176.5672607421875\n",
      "AS15-M-0298_SML.png 2 3 64.52131652832031\n",
      "AS15-M-0299_SML.png 2 2 113.6309814453125\n",
      "AS15-M-0296_SML.png 3 3 84.75848388671875\n",
      "AS15-M-0298_SML.png 3 6 90.11659240722656\n",
      "AS15-M-0299_SML.png 3 1 263.8825378417969\n",
      "AS15-M-0296_SML.png 4 6 230.3193359375\n",
      "AS15-M-0298_SML.png 4 2 239.3950653076172\n",
      "AS15-M-0299_SML.png 4 4 249.83795166015625\n",
      "AS15-M-0298_SML.png 5 0 66.67832946777344\n",
      "AS15-M-0296_SML.png 5 8 212.7721710205078\n",
      "AS15-M-0296_SML.png 6 0 85.21736907958984\n",
      "AS15-M-0299_SML.png 6 2 238.81373596191406\n",
      "AS15-M-0298_SML.png 7 4 65.55150604248047\n",
      "AS15-M-0296_SML.png 7 4 122.64175415039062\n",
      "AS15-M-0299_SML.png 8 9 158.918212890625\n",
      "AS15-M-0296_SML.png 8 5 217.3407440185547\n",
      "AS15-M-0300_SML.png 8 8 217.99771118164062\n",
      "AS15-M-0298_SML.png 9 8 217.96099853515625\n",
      "AS15-M-0296_SML.png 9 8 223.56207275390625\n",
      "AS15-M-0299_SML.png 9 1 225.2642822265625\n",
      "AS15-M-0297_SML.png 0 5 66.67832946777344\n",
      "AS15-M-0296_SML.png 0 8 220.15902709960938\n",
      "AS15-M-0300_SML.png 0 8 245.98170471191406\n",
      "AS15-M-0299_SML.png 1 3 101.85283660888672\n",
      "AS15-M-0296_SML.png 1 5 126.23786926269531\n",
      "AS15-M-0299_SML.png 2 4 68.13956451416016\n",
      "AS15-M-0297_SML.png 2 2 168.9585723876953\n",
      "AS15-M-0296_SML.png 2 5 196.30332946777344\n",
      "AS15-M-0297_SML.png 3 2 64.52131652832031\n",
      "AS15-M-0299_SML.png 3 2 88.93255615234375\n",
      "AS15-M-0296_SML.png 3 5 154.20440673828125\n",
      "AS15-M-0297_SML.png 4 7 65.55150604248047\n",
      "AS15-M-0296_SML.png 4 4 144.97586059570312\n",
      "AS15-M-0299_SML.png 4 1 230.90257263183594\n",
      "AS15-M-0296_SML.png 5 9 157.58172607421875\n",
      "AS15-M-0299_SML.png 5 4 159.31729125976562\n",
      "AS15-M-0297_SML.png 6 3 90.11659240722656\n",
      "AS15-M-0296_SML.png 6 3 133.54025268554688\n",
      "AS15-M-0299_SML.png 6 1 248.76695251464844\n",
      "AS15-M-0299_SML.png 7 0 111.87493133544922\n",
      "AS15-M-0297_SML.png 7 2 196.31861877441406\n",
      "AS15-M-0296_SML.png 7 6 220.3474578857422\n",
      "AS15-M-0297_SML.png 8 1 102.72293090820312\n",
      "AS15-M-0296_SML.png 8 5 141.0531768798828\n",
      "AS15-M-0299_SML.png 8 2 175.40809631347656\n",
      "AS15-M-0299_SML.png 9 3 152.22023010253906\n",
      "AS15-M-0296_SML.png 9 9 163.77728271484375\n",
      "AS15-M-0300_SML.png 9 5 180.18324279785156\n"
     ]
    }
   ],
   "source": [
    "#This approach generates a new KD-Tree for each node.  What about just using one KD-Tree?\n",
    "FLANN_INDEX_KDTREE = 1\n",
    "flann_params = dict(algorithm=FLANN_INDEX_KDTREE, trees=5)\n",
    "fl = cv2.FlannBasedMatcher(flann_params, {})\n",
    "\n",
    "for node in ['AS15-M-0296_SML.png','AS15-M-0297_SML.png', 'AS15-M-0298_SML.png']:\n",
    "    attributes = G.node[node]\n",
    "    k = len(G.edges(node))\n",
    "    #k = len(G.edges(node)) * 2 #To support ratio test\n",
    "    query_descriptor = attributes['descriptors']\n",
    "    training_descriptors = []\n",
    "\n",
    "    image_lookup = {}\n",
    "    for i, n in enumerate(nx.neighbors(G, node)):\n",
    "        image_lookup[i] = n\n",
    "        training_descriptors.append(G.node[n]['descriptors'])\n",
    "    \n",
    "    fl.add(training_descriptors)\n",
    "    fl.train()\n",
    "    \n",
    "    matches = fl.knnMatch(query_descriptor, k=k)\n",
    "    clipped_matches = []\n",
    "    for m_list in matches:\n",
    "        clipped_m = []\n",
    "        visited = set()\n",
    "        for m in m_list:\n",
    "            if not m.imgIdx in visited:\n",
    "                visited.add(m.imgIdx)\n",
    "                clipped_m.append(m)\n",
    "        clipped_matches.append(clipped_m)\n",
    "\n",
    "    for c in clipped_matches:\n",
    "        for i in c:\n",
    "                print(image_lookup[i.imgIdx], i.queryIdx, i.trainIdx, i.distance)\n",
    "        \n",
    "    fl.clear()\n",
    "    print"
   ]
  },
  {
   "cell_type": "markdown",
   "metadata": {},
   "source": [
    "### Performance\n",
    "The training descriptors are packed into a list using append.  This is inefficient.  If the number of descriptors per image is capped, what about storing an ndarray for efficiency?  Something down the road."
   ]
  },
  {
   "cell_type": "code",
   "execution_count": 8,
   "metadata": {
    "collapsed": false
   },
   "outputs": [
    {
     "name": "stdout",
     "output_type": "stream",
     "text": [
      "['AS15-M-0297_SML.png', 'AS15-M-0296_SML.png', 'AS15-M-0298_SML.png', 'AS15-M-0299_SML.png', 'AS15-M-0300_SML.png', 'AS15-M-0295_SML.png']\n"
     ]
    }
   ],
   "source": [
    "print(G.nodes())"
   ]
  },
  {
   "cell_type": "code",
   "execution_count": 38,
   "metadata": {
    "collapsed": false,
    "scrolled": false
   },
   "outputs": [
    {
     "name": "stdout",
     "output_type": "stream",
     "text": [
      "QueryImage, QueryPoint, TreeImage, TreePoint, Distance\n",
      "0\n",
      "(0, 0) (1, 6) 50.22947311401367\n",
      "(0, 0) (5, 4) 122.18019104003906\n",
      "(0, 1) (2, 8) 102.72293090820312\n",
      "(0, 1) (1, 5) 147.4788055419922\n",
      "(0, 2) (2, 3) 64.52131652832031\n",
      "(0, 2) (3, 2) 113.6309814453125\n",
      "(0, 3) (1, 3) 84.75848388671875\n",
      "(0, 3) (2, 6) 90.11659240722656\n",
      "(0, 3) (5, 8) 156.40013122558594\n",
      "(0, 4) (1, 6) 230.3193359375\n",
      "(0, 4) (5, 4) 230.94154357910156\n",
      "(0, 4) (2, 2) 239.3950653076172\n",
      "(0, 5) (2, 0) 66.67832946777344\n",
      "(0, 5) (1, 8) 212.7721710205078\n",
      "(0, 6) (1, 0) 85.21736907958984\n",
      "(0, 6) (5, 4) 238.07351684570312\n",
      "(0, 6) (3, 4) 242.60667419433594\n",
      "(0, 6) (2, 5) 243.74166870117188\n",
      "(0, 7) (2, 4) 65.55150604248047\n",
      "(0, 7) (1, 4) 122.64175415039062\n",
      "(0, 8) (3, 9) 158.918212890625\n",
      "(0, 8) (4, 8) 217.99771118164062\n",
      "(0, 8) (1, 8) 223.17706298828125\n",
      "(0, 9) (1, 1) 222.31959533691406\n",
      "(0, 9) (3, 1) 225.2642822265625\n",
      "(0, 9) (2, 5) 226.0420379638672\n",
      "Processed\n",
      "1\n",
      "(1, 0) (0, 6) 85.21736907958984\n",
      "(1, 0) (5, 4) 221.3662109375\n",
      "(1, 0) (3, 4) 253.791259765625\n",
      "(1, 1) (2, 3) 188.6478271484375\n",
      "(1, 1) (0, 2) 192.2784423828125\n",
      "(1, 2) (3, 2) 280.5405578613281\n",
      "(1, 2) (0, 9) 281.6096496582031\n",
      "(1, 2) (2, 5) 283.8714599609375\n",
      "(1, 3) (0, 3) 84.75848388671875\n",
      "(1, 3) (5, 8) 116.02155303955078\n",
      "(1, 3) (2, 6) 133.54025268554688\n",
      "(1, 4) (0, 7) 122.64175415039062\n",
      "(1, 4) (2, 4) 144.97586059570312\n",
      "(1, 5) (5, 0) 77.45966339111328\n",
      "(1, 5) (2, 1) 126.23786926269531\n",
      "(1, 6) (0, 0) 50.22947311401367\n",
      "(1, 6) (5, 4) 87.24104309082031\n",
      "(1, 7) (2, 5) 240.1853485107422\n",
      "(1, 7) (0, 2) 241.24053955078125\n",
      "(1, 8) (4, 8) 177.20327758789062\n",
      "(1, 8) (2, 5) 182.67730712890625\n",
      "(1, 9) (2, 1) 150.5523223876953\n",
      "(1, 9) (3, 1) 162.28062438964844\n",
      "Processed\n",
      "2\n",
      "(2, 0) (0, 5) 66.67832946777344\n",
      "(2, 0) (1, 8) 220.15902709960938\n",
      "(2, 0) (4, 8) 245.98170471191406\n",
      "(2, 1) (3, 3) 101.85283660888672\n",
      "(2, 1) (1, 5) 126.23786926269531\n",
      "(2, 2) (3, 4) 68.13956451416016\n",
      "(2, 2) (0, 2) 168.9585723876953\n",
      "(2, 3) (0, 2) 64.52131652832031\n",
      "(2, 3) (3, 2) 88.93255615234375\n",
      "(2, 4) (0, 7) 65.55150604248047\n",
      "(2, 4) (1, 4) 144.97586059570312\n",
      "(2, 5) (1, 9) 157.58172607421875\n",
      "(2, 6) (0, 3) 90.11659240722656\n",
      "(2, 6) (1, 3) 133.54025268554688\n",
      "(2, 6) (5, 8) 195.24343872070312\n",
      "(2, 7) (3, 0) 111.87493133544922\n",
      "(2, 7) (0, 2) 196.31861877441406\n",
      "(2, 8) (0, 1) 102.72293090820312\n",
      "(2, 8) (1, 5) 141.0531768798828\n",
      "(2, 9) (3, 3) 152.22023010253906\n",
      "Processed\n",
      "3\n",
      "(3, 0) (2, 7) 111.87493133544922\n",
      "(3, 0) (0, 2) 207.87255859375\n",
      "(3, 1) (2, 1) 148.95301818847656\n",
      "(3, 1) (1, 9) 162.28062438964844\n",
      "(3, 2) (2, 3) 88.93255615234375\n",
      "(3, 2) (0, 2) 113.6309814453125\n",
      "(3, 2) (4, 2) 118.94956970214844\n",
      "(3, 3) (2, 1) 101.85283660888672\n",
      "(3, 3) (1, 9) 166.05421447753906\n",
      "(3, 4) (2, 2) 68.13956451416016\n",
      "(3, 5) (0, 7) 259.6151123046875\n",
      "(3, 5) (2, 4) 268.534912109375\n",
      "(3, 5) (5, 6) 269.7814025878906\n",
      "(3, 6) (0, 5) 254.4071502685547\n",
      "(3, 6) (2, 0) 264.1571350097656\n",
      "(3, 6) (4, 6) 284.4151916503906\n",
      "(3, 7) (2, 5) 188.4622039794922\n",
      "(3, 7) (5, 1) 203.1206512451172\n",
      "(3, 8) (1, 5) 159.4490509033203\n",
      "(3, 8) (2, 1) 184.20640563964844\n",
      "(3, 8) (5, 0) 187.07752990722656\n",
      "(3, 8) (4, 5) 205.0634002685547\n",
      "(3, 9) (4, 8) 120.78907012939453\n",
      "(3, 9) (0, 8) 158.918212890625\n",
      "(3, 9) (1, 8) 205.49209594726562\n",
      "(3, 9) (2, 1) 226.49061584472656\n",
      "Processed\n",
      "4\n",
      "(4, 0) (5, 8) 301.2540588378906\n",
      "(4, 0) (1, 3) 321.87420654296875\n",
      "(4, 1) (5, 9) 249.8999786376953\n",
      "(4, 1) (0, 7) 261.5186462402344\n",
      "(4, 2) (3, 2) 118.94956970214844\n",
      "(4, 2) (2, 3) 162.83734130859375\n",
      "(4, 2) (0, 2) 190.63314819335938\n",
      "(4, 3) (2, 1) 183.73895263671875\n",
      "(4, 3) (3, 8) 210.9976348876953\n",
      "(4, 4) (1, 9) 269.86663818359375\n",
      "(4, 4) (0, 2) 274.3428649902344\n",
      "(4, 4) (2, 3) 279.2543640136719\n",
      "(4, 5) (2, 9) 180.18324279785156\n",
      "(4, 5) (3, 3) 198.02777099609375\n",
      "(4, 6) (5, 3) 237.81295776367188\n",
      "(4, 6) (0, 2) 246.3209228515625\n",
      "(4, 6) (2, 3) 253.78533935546875\n",
      "(4, 7) (2, 5) 176.980224609375\n",
      "(4, 8) (3, 9) 120.78907012939453\n",
      "(4, 8) (1, 8) 177.20327758789062\n",
      "(4, 8) (2, 5) 204.5042724609375\n",
      "(4, 9) (5, 8) 351.5152893066406\n",
      "(4, 9) (1, 3) 368.19287109375\n",
      "Processed\n",
      "5\n",
      "Processed\n"
     ]
    }
   ],
   "source": [
    "#This example builds a single KD-Tree and then removes self-neighbors\n",
    "FLANN_INDEX_KDTREE = 1\n",
    "flann_params = dict(algorithm=FLANN_INDEX_KDTREE, trees=5)\n",
    "fl = cv2.FlannBasedMatcher(flann_params, {})\n",
    "\n",
    "\n",
    "training_descriptors = []\n",
    "image_lookup = {}\n",
    "#Build a single KD-Tree\n",
    "for i, n in enumerate(G.nodes()):\n",
    "    training_descriptors.append(G.node[n]['descriptors'])\n",
    "    image_lookup[i] = n\n",
    "\n",
    "inverse_image_lookup = {v: k for k, v in image_lookup.items()}\n",
    "fl.add(training_descriptors)\n",
    "fl.train()\n",
    "\n",
    "print(\"\"\"QueryImage, QueryPoint, TreeImage, TreePoint, Distance\"\"\")\n",
    "\n",
    "cnet = nx.DiGraph()\n",
    "for node in G.nodes():\n",
    "    iid = inverse_image_lookup[node]\n",
    "    print(iid)\n",
    "    k = len(G.edges(node)) + 1  #+1 becuase we know a self neighbor will exist.\n",
    "    query_descriptor = G.node[node]['descriptors']\n",
    "    \n",
    "    matches = fl.knnMatch(query_descriptor, k=k)\n",
    "    clipped_matches = []\n",
    "    for m_list in matches:\n",
    "        clipped_m = []\n",
    "        visited = set()\n",
    "        for m in m_list:\n",
    "            if not m.imgIdx in visited and m.distance != 0 and not iid == m.imgIdx:\n",
    "                visited.add(m.imgIdx)\n",
    "                clipped_m.append(m)\n",
    "        clipped_matches.append(clipped_m)\n",
    "\n",
    "    #All the 5 entries are completely wrong - none of these overlap with 5\n",
    "    for c in clipped_matches:\n",
    "        for i in c:\n",
    "            cnet.add_edge(*[(iid, i.queryIdx), (i.imgIdx, i.trainIdx)], weight=i.distance)\n",
    "            print((iid, i.queryIdx), (i.imgIdx, i.trainIdx), i.distance)\n",
    "    print('Processed')"
   ]
  },
  {
   "cell_type": "code",
   "execution_count": 32,
   "metadata": {
    "collapsed": false
   },
   "outputs": [
    {
     "name": "stdout",
     "output_type": "stream",
     "text": [
      "(5, 9)\n",
      "(4, 7)\n",
      "(1, 3)\n",
      "(4, 8)\n",
      "(3, 0)\n",
      "(2, 8)\n",
      "(3, 2)\n",
      "(0, 7)\n",
      "(5, 6)\n",
      "(2, 6)\n",
      "(1, 6)\n",
      "(3, 7)\n",
      "(0, 3)\n",
      "(2, 5)\n",
      "(5, 8)\n",
      "(4, 0)\n",
      "(1, 2)\n",
      "(4, 9)\n",
      "(3, 3)\n",
      "(2, 9)\n",
      "(2, 0)\n",
      "(4, 4)\n",
      "(1, 5)\n",
      "(5, 0)\n",
      "(0, 4)\n",
      "(5, 3)\n",
      "(4, 1)\n",
      "(1, 1)\n",
      "(0, 1)\n",
      "(5, 4)\n",
      "(0, 0)\n",
      "(3, 6)\n",
      "(4, 5)\n",
      "(2, 2)\n",
      "(1, 4)\n",
      "(3, 9)\n",
      "(0, 5)\n",
      "(2, 1)\n",
      "(4, 2)\n",
      "(1, 0)\n",
      "(0, 8)\n",
      "(3, 5)\n",
      "(2, 7)\n",
      "(4, 6)\n",
      "(5, 2)\n",
      "(3, 1)\n",
      "(0, 2)\n",
      "(3, 8)\n",
      "(0, 6)\n",
      "(1, 8)\n",
      "(4, 3)\n",
      "(1, 7)\n",
      "(0, 9)\n",
      "(2, 3)\n",
      "(3, 4)\n",
      "(2, 4)\n",
      "(1, 9)\n",
      "{}\n"
     ]
    }
   ],
   "source": [
    "for node in cnet.nodes():\n",
    "    print(node)\n",
    "    \n",
    "print(cnet.node[(0,0)])"
   ]
  },
  {
   "cell_type": "code",
   "execution_count": 28,
   "metadata": {
    "collapsed": false
   },
   "outputs": [
    {
     "name": "stderr",
     "output_type": "stream",
     "text": [
      "/Users/jlaura/anaconda3/envs/autocnet/lib/python3.5/site-packages/matplotlib/collections.py:650: FutureWarning: elementwise comparison failed; returning scalar instead, but in the future will perform elementwise comparison\n",
      "  if self._edgecolors_original != str('face'):\n",
      "/Users/jlaura/anaconda3/envs/autocnet/lib/python3.5/site-packages/matplotlib/collections.py:590: FutureWarning: elementwise comparison failed; returning scalar instead, but in the future will perform elementwise comparison\n",
      "  if self._edgecolors == str('face'):\n"
     ]
    },
    {
     "data": {
      "image/png": "[encoded data removed]",
      "text/plain": [
       "<matplotlib.figure.Figure at 0x115b629b0>"
      ]
     },
     "metadata": {},
     "output_type": "display_data"
    }
   ],
   "source": [
    "nx.draw(cnet)\n",
    "show()"
   ]
  },
  {
   "cell_type": "code",
   "execution_count": null,
   "metadata": {
    "collapsed": true
   },
   "outputs": [],
   "source": []
  }
 ],
 "metadata": {
  "kernelspec": {
   "display_name": "Python 3",
   "language": "python",
   "name": "python3"
  },
  "language_info": {
   "codemirror_mode": {
    "name": "ipython",
    "version": 3
   },
   "file_extension": ".py",
   "mimetype": "text/x-python",
   "name": "python",
   "nbconvert_exporter": "python",
   "pygments_lexer": "ipython3",
   "version": "3.5.1"
  }
 },
 "nbformat": 4,
 "nbformat_minor": 0
}
