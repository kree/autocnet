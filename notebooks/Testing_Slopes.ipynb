{
 "cells": [
  {
   "cell_type": "markdown",
   "metadata": {},
   "source": [
    "This notebook demonstrates a test of refining the fundamental matrix using the slopes between keypoints."
   ]
  },
  {
   "cell_type": "code",
   "execution_count": 19,
   "metadata": {
    "collapsed": false,
    "scrolled": true
   },
   "outputs": [
    {
     "name": "stdout",
     "output_type": "stream",
     "text": [
      "Populating the interactive namespace from numpy and matplotlib\n"
     ]
    },
    {
     "name": "stderr",
     "output_type": "stream",
     "text": [
      "WARNING: pylab import has clobbered these variables: ['f', 'source']\n",
      "`%matplotlib` prevents importing * from pylab and numpy\n"
     ]
    }
   ],
   "source": [
    "import os\n",
    "import pandas as pd\n",
    "import sys\n",
    "sys.path.insert(0, os.path.abspath('..'))\n",
    "\n",
    "import unittest\n",
    "\n",
    "from autocnet.examples import get_path\n",
    "from autocnet.fileio.io_controlnetwork import to_isis\n",
    "from autocnet.fileio.io_controlnetwork import write_filelist\n",
    "from autocnet.graph.network import CandidateGraph\n",
    "from autocnet.fileio import utils\n",
    "\n",
    "#%pylab inline\n",
    "%pylab qt4"
   ]
  },
  {
   "cell_type": "code",
   "execution_count": 20,
   "metadata": {
    "collapsed": true
   },
   "outputs": [],
   "source": [
    "serial_numbers = {'AS15-M-0295_SML.png': '1971-07-31T01:24:11.754',\n",
    "                'AS15-M-0296_SML.png': '1971-07-31T01:24:36.970',\n",
    "                'AS15-M-0297_SML.png': '1971-07-31T01:25:02.243',\n",
    "                'AS15-M-0298_SML.png': '1971-07-31T01:25:27.457',\n",
    "                'AS15-M-0299_SML.png': '1971-07-31T01:25:52.669',\n",
    "                'AS15-M-0300_SML.png': '1971-07-31T01:26:17.923'}\n",
    "\n",
    "for k, v in serial_numbers.items():\n",
    "    serial_numbers[k] = 'APOLLO15/METRIC/{}'.format(v)"
   ]
  },
  {
   "cell_type": "code",
   "execution_count": 21,
   "metadata": {
    "collapsed": true
   },
   "outputs": [],
   "source": [
    "adjacency = get_path('two_image_adjacency.json')\n",
    "basepath = get_path('Apollo15')\n",
    "cg = CandidateGraph.from_adjacency(adjacency, basepath=basepath)\n",
    "\n",
    "cg.extract_features(method='sift', extractor_parameters={\"nfeatures\":500})\n",
    "cg.match_features(k=2)"
   ]
  },
  {
   "cell_type": "code",
   "execution_count": 22,
   "metadata": {
    "collapsed": true
   },
   "outputs": [],
   "source": [
    "for source, destination, edge in cg.edges_iter(data=True):\n",
    "    # Perform the symmetry check\n",
    "    edge.symmetry_check()\n",
    "    # Perform the ratio test\n",
    "    edge.ratio_check(clean_keys=['symmetry'])"
   ]
  },
  {
   "cell_type": "code",
   "execution_count": 23,
   "metadata": {
    "collapsed": false
   },
   "outputs": [],
   "source": [
    "cg.apply_func_to_edges(\"compute_fundamental_matrix\", clean_keys=['symmetry', 'ratio'])"
   ]
  },
  {
   "cell_type": "code",
   "execution_count": 24,
   "metadata": {
    "collapsed": false
   },
   "outputs": [],
   "source": [
    "f = cg.edge[0][1].fundamental_matrix"
   ]
  },
  {
   "cell_type": "code",
   "execution_count": 25,
   "metadata": {
    "collapsed": false
   },
   "outputs": [
    {
     "data": {
      "text/plain": [
       "2000"
      ]
     },
     "execution_count": 25,
     "metadata": {},
     "output_type": "execute_result"
    }
   ],
   "source": [
    "df=utils.calculate_slope(f.x1, f.x2)\n",
    "len(df.values.ravel())"
   ]
  },
  {
   "cell_type": "code",
   "execution_count": 26,
   "metadata": {
    "collapsed": false,
    "scrolled": true
   },
   "outputs": [
    {
     "data": {
      "text/plain": [
       "True"
      ]
     },
     "execution_count": 26,
     "metadata": {},
     "output_type": "execute_result"
    }
   ],
   "source": [
    "f.mask[f.mask==True].equals(f.mask[f.mask])"
   ]
  },
  {
   "cell_type": "code",
   "execution_count": 69,
   "metadata": {
    "collapsed": false
   },
   "outputs": [],
   "source": [
    "nbr_inliers = 20\n",
    "fp = np.array(np.random.standard_normal((nbr_inliers, 2)))  # inliers\n",
    "static_F = np.array([[4, 0.5, 10], [0.25, 1, 5], [0.2, 0.1, 1]])\n",
    "fph = np.hstack((fp, np.ones((nbr_inliers, 1))))\n",
    "tp = static_F.dot(fph.T)\n",
    "# normalize hom. coordinates\n",
    "tp /= tp[-1, :np.newaxis]\n",
    "df1 = pd.DataFrame(fp, columns=['x', 'y'])\n",
    "df2 = pd.DataFrame(tp.T[:, :2], columns=['x', 'y'])"
   ]
  },
  {
   "cell_type": "code",
   "execution_count": 70,
   "metadata": {
    "collapsed": false,
    "scrolled": true
   },
   "outputs": [
    {
     "data": {
      "text/html": [
       "<div>\n",
       "<table border=\"1\" class=\"dataframe\">\n",
       "  <thead>\n",
       "    <tr style=\"text-align: right;\">\n",
       "      <th></th>\n",
       "      <th>x</th>\n",
       "      <th>y</th>\n",
       "    </tr>\n",
       "  </thead>\n",
       "  <tbody>\n",
       "    <tr>\n",
       "      <th>0</th>\n",
       "      <td>0.143192</td>\n",
       "      <td>2.192324</td>\n",
       "    </tr>\n",
       "    <tr>\n",
       "      <th>1</th>\n",
       "      <td>0.846174</td>\n",
       "      <td>0.197930</td>\n",
       "    </tr>\n",
       "    <tr>\n",
       "      <th>2</th>\n",
       "      <td>0.622564</td>\n",
       "      <td>-1.081280</td>\n",
       "    </tr>\n",
       "    <tr>\n",
       "      <th>3</th>\n",
       "      <td>0.881229</td>\n",
       "      <td>-0.587017</td>\n",
       "    </tr>\n",
       "    <tr>\n",
       "      <th>4</th>\n",
       "      <td>0.288810</td>\n",
       "      <td>1.927145</td>\n",
       "    </tr>\n",
       "    <tr>\n",
       "      <th>5</th>\n",
       "      <td>-0.460151</td>\n",
       "      <td>-1.205435</td>\n",
       "    </tr>\n",
       "    <tr>\n",
       "      <th>6</th>\n",
       "      <td>0.235280</td>\n",
       "      <td>-0.942149</td>\n",
       "    </tr>\n",
       "    <tr>\n",
       "      <th>7</th>\n",
       "      <td>-1.773901</td>\n",
       "      <td>0.774746</td>\n",
       "    </tr>\n",
       "    <tr>\n",
       "      <th>8</th>\n",
       "      <td>-1.045653</td>\n",
       "      <td>0.395082</td>\n",
       "    </tr>\n",
       "    <tr>\n",
       "      <th>9</th>\n",
       "      <td>-2.001308</td>\n",
       "      <td>-0.385638</td>\n",
       "    </tr>\n",
       "    <tr>\n",
       "      <th>10</th>\n",
       "      <td>0.354249</td>\n",
       "      <td>-0.857275</td>\n",
       "    </tr>\n",
       "    <tr>\n",
       "      <th>11</th>\n",
       "      <td>0.140351</td>\n",
       "      <td>0.388420</td>\n",
       "    </tr>\n",
       "    <tr>\n",
       "      <th>12</th>\n",
       "      <td>0.784891</td>\n",
       "      <td>0.506238</td>\n",
       "    </tr>\n",
       "    <tr>\n",
       "      <th>13</th>\n",
       "      <td>-0.524640</td>\n",
       "      <td>1.707849</td>\n",
       "    </tr>\n",
       "    <tr>\n",
       "      <th>14</th>\n",
       "      <td>0.203228</td>\n",
       "      <td>0.826552</td>\n",
       "    </tr>\n",
       "    <tr>\n",
       "      <th>15</th>\n",
       "      <td>1.424111</td>\n",
       "      <td>-0.047939</td>\n",
       "    </tr>\n",
       "    <tr>\n",
       "      <th>16</th>\n",
       "      <td>1.111937</td>\n",
       "      <td>-0.866684</td>\n",
       "    </tr>\n",
       "    <tr>\n",
       "      <th>17</th>\n",
       "      <td>0.260445</td>\n",
       "      <td>-0.803203</td>\n",
       "    </tr>\n",
       "    <tr>\n",
       "      <th>18</th>\n",
       "      <td>-0.814763</td>\n",
       "      <td>-0.770888</td>\n",
       "    </tr>\n",
       "    <tr>\n",
       "      <th>19</th>\n",
       "      <td>-0.554733</td>\n",
       "      <td>-1.510356</td>\n",
       "    </tr>\n",
       "  </tbody>\n",
       "</table>\n",
       "</div>"
      ],
      "text/plain": [
       "           x         y\n",
       "0   0.143192  2.192324\n",
       "1   0.846174  0.197930\n",
       "2   0.622564 -1.081280\n",
       "3   0.881229 -0.587017\n",
       "4   0.288810  1.927145\n",
       "5  -0.460151 -1.205435\n",
       "6   0.235280 -0.942149\n",
       "7  -1.773901  0.774746\n",
       "8  -1.045653  0.395082\n",
       "9  -2.001308 -0.385638\n",
       "10  0.354249 -0.857275\n",
       "11  0.140351  0.388420\n",
       "12  0.784891  0.506238\n",
       "13 -0.524640  1.707849\n",
       "14  0.203228  0.826552\n",
       "15  1.424111 -0.047939\n",
       "16  1.111937 -0.866684\n",
       "17  0.260445 -0.803203\n",
       "18 -0.814763 -0.770888\n",
       "19 -0.554733 -1.510356"
      ]
     },
     "execution_count": 70,
     "metadata": {},
     "output_type": "execute_result"
    }
   ],
   "source": [
    "df1"
   ]
  },
  {
   "cell_type": "code",
   "execution_count": 71,
   "metadata": {
    "collapsed": false
   },
   "outputs": [
    {
     "data": {
      "text/html": [
       "<div>\n",
       "<table border=\"1\" class=\"dataframe\">\n",
       "  <thead>\n",
       "    <tr style=\"text-align: right;\">\n",
       "      <th></th>\n",
       "      <th>x</th>\n",
       "      <th>y</th>\n",
       "    </tr>\n",
       "  </thead>\n",
       "  <tbody>\n",
       "    <tr>\n",
       "      <th>0</th>\n",
       "      <td>9.351072</td>\n",
       "      <td>5.792364</td>\n",
       "    </tr>\n",
       "    <tr>\n",
       "      <th>1</th>\n",
       "      <td>11.340072</td>\n",
       "      <td>4.549493</td>\n",
       "    </tr>\n",
       "    <tr>\n",
       "      <th>2</th>\n",
       "      <td>11.756981</td>\n",
       "      <td>4.008679</td>\n",
       "    </tr>\n",
       "    <tr>\n",
       "      <th>3</th>\n",
       "      <td>11.839718</td>\n",
       "      <td>4.145958</td>\n",
       "    </tr>\n",
       "    <tr>\n",
       "      <th>4</th>\n",
       "      <td>9.691355</td>\n",
       "      <td>5.597344</td>\n",
       "    </tr>\n",
       "    <tr>\n",
       "      <th>5</th>\n",
       "      <td>9.596680</td>\n",
       "      <td>4.672853</td>\n",
       "    </tr>\n",
       "    <tr>\n",
       "      <th>6</th>\n",
       "      <td>10.988238</td>\n",
       "      <td>4.320418</td>\n",
       "    </tr>\n",
       "    <tr>\n",
       "      <th>7</th>\n",
       "      <td>4.554858</td>\n",
       "      <td>7.376936</td>\n",
       "    </tr>\n",
       "    <tr>\n",
       "      <th>8</th>\n",
       "      <td>7.243608</td>\n",
       "      <td>6.182330</td>\n",
       "    </tr>\n",
       "    <tr>\n",
       "      <th>9</th>\n",
       "      <td>3.211032</td>\n",
       "      <td>7.331114</td>\n",
       "    </tr>\n",
       "    <tr>\n",
       "      <th>10</th>\n",
       "      <td>11.154310</td>\n",
       "      <td>4.295189</td>\n",
       "    </tr>\n",
       "    <tr>\n",
       "      <th>11</th>\n",
       "      <td>10.081068</td>\n",
       "      <td>5.083368</td>\n",
       "    </tr>\n",
       "    <tr>\n",
       "      <th>12</th>\n",
       "      <td>11.090312</td>\n",
       "      <td>4.722136</td>\n",
       "    </tr>\n",
       "    <tr>\n",
       "      <th>13</th>\n",
       "      <td>8.214391</td>\n",
       "      <td>6.170330</td>\n",
       "    </tr>\n",
       "    <tr>\n",
       "      <th>14</th>\n",
       "      <td>9.993929</td>\n",
       "      <td>5.232222</td>\n",
       "    </tr>\n",
       "    <tr>\n",
       "      <th>15</th>\n",
       "      <td>12.243850</td>\n",
       "      <td>4.146853</td>\n",
       "    </tr>\n",
       "    <tr>\n",
       "      <th>16</th>\n",
       "      <td>12.339678</td>\n",
       "      <td>3.884148</td>\n",
       "    </tr>\n",
       "    <tr>\n",
       "      <th>17</th>\n",
       "      <td>10.949291</td>\n",
       "      <td>4.385723</td>\n",
       "    </tr>\n",
       "    <tr>\n",
       "      <th>18</th>\n",
       "      <td>8.362961</td>\n",
       "      <td>5.296895</td>\n",
       "    </tr>\n",
       "    <tr>\n",
       "      <th>19</th>\n",
       "      <td>9.519948</td>\n",
       "      <td>4.540487</td>\n",
       "    </tr>\n",
       "  </tbody>\n",
       "</table>\n",
       "</div>"
      ],
      "text/plain": [
       "            x         y\n",
       "0    9.351072  5.792364\n",
       "1   11.340072  4.549493\n",
       "2   11.756981  4.008679\n",
       "3   11.839718  4.145958\n",
       "4    9.691355  5.597344\n",
       "5    9.596680  4.672853\n",
       "6   10.988238  4.320418\n",
       "7    4.554858  7.376936\n",
       "8    7.243608  6.182330\n",
       "9    3.211032  7.331114\n",
       "10  11.154310  4.295189\n",
       "11  10.081068  5.083368\n",
       "12  11.090312  4.722136\n",
       "13   8.214391  6.170330\n",
       "14   9.993929  5.232222\n",
       "15  12.243850  4.146853\n",
       "16  12.339678  3.884148\n",
       "17  10.949291  4.385723\n",
       "18   8.362961  5.296895\n",
       "19   9.519948  4.540487"
      ]
     },
     "execution_count": 71,
     "metadata": {},
     "output_type": "execute_result"
    }
   ],
   "source": [
    "df2"
   ]
  },
  {
   "cell_type": "code",
   "execution_count": 72,
   "metadata": {
    "collapsed": false
   },
   "outputs": [
    {
     "data": {
      "text/plain": [
       "0      True\n",
       "1      True\n",
       "2      True\n",
       "3      True\n",
       "4      True\n",
       "5     False\n",
       "6      True\n",
       "7     False\n",
       "8     False\n",
       "9     False\n",
       "10     True\n",
       "11     True\n",
       "12     True\n",
       "13    False\n",
       "14     True\n",
       "15     True\n",
       "16     True\n",
       "17     True\n",
       "18    False\n",
       "19    False\n",
       "Name: x, dtype: bool"
      ]
     },
     "execution_count": 72,
     "metadata": {},
     "output_type": "execute_result"
    }
   ],
   "source": [
    "mask = df1.x > 0\n",
    "mask"
   ]
  },
  {
   "cell_type": "code",
   "execution_count": 73,
   "metadata": {
    "collapsed": false
   },
   "outputs": [
    {
     "data": {
      "text/html": [
       "<div>\n",
       "<table border=\"1\" class=\"dataframe\">\n",
       "  <thead>\n",
       "    <tr style=\"text-align: right;\">\n",
       "      <th></th>\n",
       "      <th>x</th>\n",
       "      <th>y</th>\n",
       "    </tr>\n",
       "  </thead>\n",
       "  <tbody>\n",
       "    <tr>\n",
       "      <th>0</th>\n",
       "      <td>0.143192</td>\n",
       "      <td>2.192324</td>\n",
       "    </tr>\n",
       "    <tr>\n",
       "      <th>1</th>\n",
       "      <td>0.846174</td>\n",
       "      <td>0.197930</td>\n",
       "    </tr>\n",
       "    <tr>\n",
       "      <th>2</th>\n",
       "      <td>0.622564</td>\n",
       "      <td>-1.081280</td>\n",
       "    </tr>\n",
       "    <tr>\n",
       "      <th>3</th>\n",
       "      <td>0.881229</td>\n",
       "      <td>-0.587017</td>\n",
       "    </tr>\n",
       "    <tr>\n",
       "      <th>4</th>\n",
       "      <td>0.288810</td>\n",
       "      <td>1.927145</td>\n",
       "    </tr>\n",
       "    <tr>\n",
       "      <th>6</th>\n",
       "      <td>0.235280</td>\n",
       "      <td>-0.942149</td>\n",
       "    </tr>\n",
       "    <tr>\n",
       "      <th>10</th>\n",
       "      <td>0.354249</td>\n",
       "      <td>-0.857275</td>\n",
       "    </tr>\n",
       "    <tr>\n",
       "      <th>11</th>\n",
       "      <td>0.140351</td>\n",
       "      <td>0.388420</td>\n",
       "    </tr>\n",
       "    <tr>\n",
       "      <th>12</th>\n",
       "      <td>0.784891</td>\n",
       "      <td>0.506238</td>\n",
       "    </tr>\n",
       "    <tr>\n",
       "      <th>14</th>\n",
       "      <td>0.203228</td>\n",
       "      <td>0.826552</td>\n",
       "    </tr>\n",
       "    <tr>\n",
       "      <th>15</th>\n",
       "      <td>1.424111</td>\n",
       "      <td>-0.047939</td>\n",
       "    </tr>\n",
       "    <tr>\n",
       "      <th>16</th>\n",
       "      <td>1.111937</td>\n",
       "      <td>-0.866684</td>\n",
       "    </tr>\n",
       "    <tr>\n",
       "      <th>17</th>\n",
       "      <td>0.260445</td>\n",
       "      <td>-0.803203</td>\n",
       "    </tr>\n",
       "  </tbody>\n",
       "</table>\n",
       "</div>"
      ],
      "text/plain": [
       "           x         y\n",
       "0   0.143192  2.192324\n",
       "1   0.846174  0.197930\n",
       "2   0.622564 -1.081280\n",
       "3   0.881229 -0.587017\n",
       "4   0.288810  1.927145\n",
       "6   0.235280 -0.942149\n",
       "10  0.354249 -0.857275\n",
       "11  0.140351  0.388420\n",
       "12  0.784891  0.506238\n",
       "14  0.203228  0.826552\n",
       "15  1.424111 -0.047939\n",
       "16  1.111937 -0.866684\n",
       "17  0.260445 -0.803203"
      ]
     },
     "execution_count": 73,
     "metadata": {},
     "output_type": "execute_result"
    }
   ],
   "source": [
    "df1[mask]"
   ]
  },
  {
   "cell_type": "code",
   "execution_count": 74,
   "metadata": {
    "collapsed": false,
    "scrolled": true
   },
   "outputs": [
    {
     "data": {
      "text/html": [
       "<div>\n",
       "<table border=\"1\" class=\"dataframe\">\n",
       "  <thead>\n",
       "    <tr style=\"text-align: right;\">\n",
       "      <th></th>\n",
       "      <th>x</th>\n",
       "      <th>y</th>\n",
       "    </tr>\n",
       "  </thead>\n",
       "  <tbody>\n",
       "    <tr>\n",
       "      <th>0</th>\n",
       "      <td>9.351072</td>\n",
       "      <td>5.792364</td>\n",
       "    </tr>\n",
       "    <tr>\n",
       "      <th>1</th>\n",
       "      <td>11.340072</td>\n",
       "      <td>4.549493</td>\n",
       "    </tr>\n",
       "    <tr>\n",
       "      <th>2</th>\n",
       "      <td>11.756981</td>\n",
       "      <td>4.008679</td>\n",
       "    </tr>\n",
       "    <tr>\n",
       "      <th>3</th>\n",
       "      <td>11.839718</td>\n",
       "      <td>4.145958</td>\n",
       "    </tr>\n",
       "    <tr>\n",
       "      <th>4</th>\n",
       "      <td>9.691355</td>\n",
       "      <td>5.597344</td>\n",
       "    </tr>\n",
       "    <tr>\n",
       "      <th>6</th>\n",
       "      <td>10.988238</td>\n",
       "      <td>4.320418</td>\n",
       "    </tr>\n",
       "    <tr>\n",
       "      <th>10</th>\n",
       "      <td>11.154310</td>\n",
       "      <td>4.295189</td>\n",
       "    </tr>\n",
       "    <tr>\n",
       "      <th>11</th>\n",
       "      <td>10.081068</td>\n",
       "      <td>5.083368</td>\n",
       "    </tr>\n",
       "    <tr>\n",
       "      <th>12</th>\n",
       "      <td>11.090312</td>\n",
       "      <td>4.722136</td>\n",
       "    </tr>\n",
       "    <tr>\n",
       "      <th>14</th>\n",
       "      <td>9.993929</td>\n",
       "      <td>5.232222</td>\n",
       "    </tr>\n",
       "    <tr>\n",
       "      <th>15</th>\n",
       "      <td>12.243850</td>\n",
       "      <td>4.146853</td>\n",
       "    </tr>\n",
       "    <tr>\n",
       "      <th>16</th>\n",
       "      <td>12.339678</td>\n",
       "      <td>3.884148</td>\n",
       "    </tr>\n",
       "    <tr>\n",
       "      <th>17</th>\n",
       "      <td>10.949291</td>\n",
       "      <td>4.385723</td>\n",
       "    </tr>\n",
       "  </tbody>\n",
       "</table>\n",
       "</div>"
      ],
      "text/plain": [
       "            x         y\n",
       "0    9.351072  5.792364\n",
       "1   11.340072  4.549493\n",
       "2   11.756981  4.008679\n",
       "3   11.839718  4.145958\n",
       "4    9.691355  5.597344\n",
       "6   10.988238  4.320418\n",
       "10  11.154310  4.295189\n",
       "11  10.081068  5.083368\n",
       "12  11.090312  4.722136\n",
       "14   9.993929  5.232222\n",
       "15  12.243850  4.146853\n",
       "16  12.339678  3.884148\n",
       "17  10.949291  4.385723"
      ]
     },
     "execution_count": 74,
     "metadata": {},
     "output_type": "execute_result"
    }
   ],
   "source": [
    "df2[mask]"
   ]
  },
  {
   "cell_type": "code",
   "execution_count": 75,
   "metadata": {
    "collapsed": true
   },
   "outputs": [],
   "source": [
    "df1[mask] = df2[mask]"
   ]
  },
  {
   "cell_type": "code",
   "execution_count": 76,
   "metadata": {
    "collapsed": false
   },
   "outputs": [
    {
     "data": {
      "text/html": [
       "<div>\n",
       "<table border=\"1\" class=\"dataframe\">\n",
       "  <thead>\n",
       "    <tr style=\"text-align: right;\">\n",
       "      <th></th>\n",
       "      <th>x</th>\n",
       "      <th>y</th>\n",
       "    </tr>\n",
       "  </thead>\n",
       "  <tbody>\n",
       "    <tr>\n",
       "      <th>0</th>\n",
       "      <td>9.351072</td>\n",
       "      <td>5.792364</td>\n",
       "    </tr>\n",
       "    <tr>\n",
       "      <th>1</th>\n",
       "      <td>11.340072</td>\n",
       "      <td>4.549493</td>\n",
       "    </tr>\n",
       "    <tr>\n",
       "      <th>2</th>\n",
       "      <td>11.756981</td>\n",
       "      <td>4.008679</td>\n",
       "    </tr>\n",
       "    <tr>\n",
       "      <th>3</th>\n",
       "      <td>11.839718</td>\n",
       "      <td>4.145958</td>\n",
       "    </tr>\n",
       "    <tr>\n",
       "      <th>4</th>\n",
       "      <td>9.691355</td>\n",
       "      <td>5.597344</td>\n",
       "    </tr>\n",
       "    <tr>\n",
       "      <th>5</th>\n",
       "      <td>-0.460151</td>\n",
       "      <td>-1.205435</td>\n",
       "    </tr>\n",
       "    <tr>\n",
       "      <th>6</th>\n",
       "      <td>10.988238</td>\n",
       "      <td>4.320418</td>\n",
       "    </tr>\n",
       "    <tr>\n",
       "      <th>7</th>\n",
       "      <td>-1.773901</td>\n",
       "      <td>0.774746</td>\n",
       "    </tr>\n",
       "    <tr>\n",
       "      <th>8</th>\n",
       "      <td>-1.045653</td>\n",
       "      <td>0.395082</td>\n",
       "    </tr>\n",
       "    <tr>\n",
       "      <th>9</th>\n",
       "      <td>-2.001308</td>\n",
       "      <td>-0.385638</td>\n",
       "    </tr>\n",
       "    <tr>\n",
       "      <th>10</th>\n",
       "      <td>11.154310</td>\n",
       "      <td>4.295189</td>\n",
       "    </tr>\n",
       "    <tr>\n",
       "      <th>11</th>\n",
       "      <td>10.081068</td>\n",
       "      <td>5.083368</td>\n",
       "    </tr>\n",
       "    <tr>\n",
       "      <th>12</th>\n",
       "      <td>11.090312</td>\n",
       "      <td>4.722136</td>\n",
       "    </tr>\n",
       "    <tr>\n",
       "      <th>13</th>\n",
       "      <td>-0.524640</td>\n",
       "      <td>1.707849</td>\n",
       "    </tr>\n",
       "    <tr>\n",
       "      <th>14</th>\n",
       "      <td>9.993929</td>\n",
       "      <td>5.232222</td>\n",
       "    </tr>\n",
       "    <tr>\n",
       "      <th>15</th>\n",
       "      <td>12.243850</td>\n",
       "      <td>4.146853</td>\n",
       "    </tr>\n",
       "    <tr>\n",
       "      <th>16</th>\n",
       "      <td>12.339678</td>\n",
       "      <td>3.884148</td>\n",
       "    </tr>\n",
       "    <tr>\n",
       "      <th>17</th>\n",
       "      <td>10.949291</td>\n",
       "      <td>4.385723</td>\n",
       "    </tr>\n",
       "    <tr>\n",
       "      <th>18</th>\n",
       "      <td>-0.814763</td>\n",
       "      <td>-0.770888</td>\n",
       "    </tr>\n",
       "    <tr>\n",
       "      <th>19</th>\n",
       "      <td>-0.554733</td>\n",
       "      <td>-1.510356</td>\n",
       "    </tr>\n",
       "  </tbody>\n",
       "</table>\n",
       "</div>"
      ],
      "text/plain": [
       "            x         y\n",
       "0    9.351072  5.792364\n",
       "1   11.340072  4.549493\n",
       "2   11.756981  4.008679\n",
       "3   11.839718  4.145958\n",
       "4    9.691355  5.597344\n",
       "5   -0.460151 -1.205435\n",
       "6   10.988238  4.320418\n",
       "7   -1.773901  0.774746\n",
       "8   -1.045653  0.395082\n",
       "9   -2.001308 -0.385638\n",
       "10  11.154310  4.295189\n",
       "11  10.081068  5.083368\n",
       "12  11.090312  4.722136\n",
       "13  -0.524640  1.707849\n",
       "14   9.993929  5.232222\n",
       "15  12.243850  4.146853\n",
       "16  12.339678  3.884148\n",
       "17  10.949291  4.385723\n",
       "18  -0.814763 -0.770888\n",
       "19  -0.554733 -1.510356"
      ]
     },
     "execution_count": 76,
     "metadata": {},
     "output_type": "execute_result"
    }
   ],
   "source": [
    "df1"
   ]
  },
  {
   "cell_type": "code",
   "execution_count": 16,
   "metadata": {
    "collapsed": false
   },
   "outputs": [],
   "source": [
    "f.refine(df=utils.calculate_slope(f.x1, f.x2))"
   ]
  },
  {
   "cell_type": "code",
   "execution_count": null,
   "metadata": {
    "collapsed": true
   },
   "outputs": [],
   "source": [
    "f.rollback()"
   ]
  },
  {
   "cell_type": "code",
   "execution_count": null,
   "metadata": {
    "collapsed": false
   },
   "outputs": [],
   "source": [
    "f.mask"
   ]
  },
  {
   "cell_type": "code",
   "execution_count": null,
   "metadata": {
    "collapsed": false
   },
   "outputs": [],
   "source": [
    "figsize(18,18)\n",
    "fig, ax = plt.subplots(1,1)\n",
    "ax = cg.edge[0][1].plot(clean_keys=['ratio', 'fundamental'], ax=ax)"
   ]
  },
  {
   "cell_type": "code",
   "execution_count": null,
   "metadata": {
    "collapsed": false,
    "scrolled": true
   },
   "outputs": [],
   "source": [
    "figsize(18,18)\n",
    "fig, ax = plt.subplots(1,1)\n",
    "ax = cg.edge[0][2].plot(clean_keys=['ratio', 'symmetry', 'fundamental', 'subpixel'], ax=ax)"
   ]
  }
 ],
 "metadata": {
  "kernelspec": {
   "display_name": "Python 3",
   "language": "python",
   "name": "python3"
  },
  "language_info": {
   "codemirror_mode": {
    "name": "ipython",
    "version": 3
   },
   "file_extension": ".py",
   "mimetype": "text/x-python",
   "name": "python",
   "nbconvert_exporter": "python",
   "pygments_lexer": "ipython3",
   "version": "3.5.1"
  }
 },
 "nbformat": 4,
 "nbformat_minor": 0
}
